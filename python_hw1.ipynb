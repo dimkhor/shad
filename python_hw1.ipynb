{
 "cells": [
  {
   "cell_type": "code",
   "execution_count": null,
   "id": "3c30bf2c",
   "metadata": {},
   "outputs": [],
   "source": [
    "1 Same Strings\n",
    "Напишите функцию same_strings, которая принимает на вход две строки и возвращает True, \n",
    "если перестановкой символов можно получить вторую строку из первой и \n",
    "False если этого сделать нельзя."
   ]
  },
  {
   "cell_type": "code",
   "execution_count": 101,
   "id": "d7024235",
   "metadata": {},
   "outputs": [
    {
     "name": "stdout",
     "output_type": "stream",
     "text": [
      "True\n",
      "False\n",
      "False\n"
     ]
    }
   ],
   "source": [
    "def same_strings(string1: str, string2: str) -> bool:\n",
    "    string1_sort = ''.join(sorted(string1.lower()))\n",
    "    string2_sort = ''.join(sorted(string2.lower()))\n",
    "    return(True if string1_sort == string2_sort else False)\n",
    "\n",
    "if __name__ == \"__main__\":\n",
    "    print(same_strings(\"foo\", \"oof\"))\n",
    "    print(same_strings(\"foo\", \"bar\"))\n",
    "    print(same_strings(\"foo\", \"ofoo\"))"
   ]
  },
  {
   "cell_type": "code",
   "execution_count": null,
   "id": "99d8838a",
   "metadata": {},
   "outputs": [],
   "source": [
    "2 Archiver\n",
    "Дана строка, состоящая из букв A-Z. Нужно написать программу, которая архивирует данную строку. \n",
    "Архивация происходит по следующей схеме: пишем букву, а после сколько раз она встречалась подряд. \n",
    "Если буква встретилась всего один раз, то цифру 1 писать не нужно."
   ]
  },
  {
   "cell_type": "code",
   "execution_count": 105,
   "id": "0a1482b1",
   "metadata": {},
   "outputs": [
    {
     "name": "stdout",
     "output_type": "stream",
     "text": [
      "A3B4C3\n",
      "A6\n",
      "AB4CDE\n",
      "A2B3A\n"
     ]
    }
   ],
   "source": [
    "def archiver(string: str) -> str:\n",
    "    string_fin = ''\n",
    "    cnt = 1\n",
    "    for i in range(len(string)):\n",
    "        if (i == 0 and string[i]!= string[i+1]) or (i == len(string)-1 and string[i]!= string[i-1]):\n",
    "            string_fin+= string[i]\n",
    "        elif i == 0 and string[i] == string[i+1]:\n",
    "            cnt+= 1\n",
    "        elif i == len(string)-1 and string[i] == string[i-1]:\n",
    "            string_fin+= string[i]\n",
    "            string_fin+= str(cnt)\n",
    "        elif string[i]!= string[i-1] and string[i]!= string[i+1]:\n",
    "            string_fin+= string[i]\n",
    "            cnt = 1\n",
    "        elif string[i] == string[i+1]:\n",
    "            cnt+= 1\n",
    "        elif string[i]!= string[i+1]:\n",
    "            string_fin+= string[i]\n",
    "            string_fin+= str(cnt)\n",
    "            cnt = 1\n",
    "    return(string_fin)\n",
    "\n",
    "if __name__ == \"__main__\":\n",
    "    print(archiver(\"AAABBBBCCC\"))\n",
    "    print(archiver(\"AAAAAA\"))\n",
    "    print(archiver(\"ABBBBCDE\"))\n",
    "    print(archiver(\"AABBBA\"))"
   ]
  },
  {
   "cell_type": "code",
   "execution_count": null,
   "id": "4d6cb8f2",
   "metadata": {},
   "outputs": [],
   "source": [
    "3 Stock\n",
    "Вам дан массив цен какой-то акции. На i-ой позиции стоит цена за определенный день. Вам нужно максимизировать вашу прибыль, то есть купить как можно дешевле в какой-то день и потом в будущий день продать подороже. Напишите функцию max_profit, которая будет выдавать максимальную прибыль, которую вы можете получить. Если прибыль получить нельзя, то выведите 0.\n",
    "По времени программа должна работать за O(N)."
   ]
  },
  {
   "cell_type": "code",
   "execution_count": 106,
   "id": "c86faa4e",
   "metadata": {},
   "outputs": [
    {
     "name": "stdout",
     "output_type": "stream",
     "text": [
      "5\n",
      "0\n"
     ]
    }
   ],
   "source": [
    "from typing import List\n",
    "\n",
    "def max_profit(prices: List[int]) -> int:\n",
    "    lst_profits = []\n",
    "    for i in range(len(prices)-1):\n",
    "        profit_val = max(prices[i+1:])-prices[i]\n",
    "        lst_profits.append(profit_val if profit_val>0 else 0)\n",
    "    max_profit = max(lst_profits)\n",
    "    return(max_profit)\n",
    "\n",
    "\n",
    "if __name__ == \"__main__\":\n",
    "    print(max_profit([7, 1, 5, 3, 6, 4]))\n",
    "    print(max_profit([7, 6, 4, 3, 1]))"
   ]
  },
  {
   "cell_type": "code",
   "execution_count": null,
   "id": "cc36dcdb",
   "metadata": {},
   "outputs": [],
   "source": [
    "4 Product\n",
    "Вам дан массив nums, который содержит целые числа. \n",
    "Вам нужно найти вернуть массив answer, который на i-ой позиции содержит прозведение всех элементов массив nums, кроме i-ого.\n",
    "Решить задачу нужно за O(n) по времени."
   ]
  },
  {
   "cell_type": "code",
   "execution_count": 108,
   "id": "2d604c79",
   "metadata": {},
   "outputs": [
    {
     "name": "stdout",
     "output_type": "stream",
     "text": [
      "[6, 3, 2]\n",
      "[0, 3, 0]\n",
      "[0, 0, 0]\n"
     ]
    }
   ],
   "source": [
    "from typing import List\n",
    "\n",
    "def product_except_self(nums: List[int]) -> List[int]:\n",
    "    mult = 1\n",
    "    for i in nums:\n",
    "        if i!= 0:\n",
    "            mult*= i\n",
    "\n",
    "    cnt_zeros = nums.count(0)\n",
    "\n",
    "    if cnt_zeros == 0:\n",
    "        nums_fin = [int(mult/j) for j in nums]\n",
    "    elif cnt_zeros == 1:\n",
    "        nums_fin = [mult if j == 0 else 0 for j in nums]\n",
    "    else:\n",
    "        nums_fin = [0] * len(nums)\n",
    "    return(nums_fin)\n",
    "\n",
    "\n",
    "if __name__ == \"__main__\":\n",
    "    print(product_except_self([1, 2, 3]))\n",
    "    print(product_except_self([1, 0, 3]))\n",
    "    print(product_except_self([0, 0, 3]))"
   ]
  },
  {
   "cell_type": "code",
   "execution_count": null,
   "id": "b9f40c7e",
   "metadata": {},
   "outputs": [],
   "source": [
    "5 Result Checker\n",
    "Разработчик Ахмед написал ряд функций, которые часто использует в realtime моделях. Он думал, что все работает хорошо, даже написал какие-то тесты, но их покрытие оказалось совсем небольшим.\n",
    "В один \"прекрасный\" день, Ахмед получил выговор от своего тим лида. Результаты функций иногда абсурдны. Функция может вернуть значение меньше 0, хотя такого не может быть.\n",
    "Ахмед решил написать декоратор result_checker, который поможет быстро находить абсурдные кейсы, после чего их можно занести в тесты и поправить код.\n",
    "Помогите Ахмеду написать такой декоратор.\n",
    "\n",
    "Декоратор проверяет результат выполнения функции.\n",
    "Декоратор принимает в качестве аргумента lambda функцию, которая сможет проверить валидность результата.\n",
    "Если результат не валиден, он должен вернуть ошибку ValueError или хотя бы залогировать, что функция отработала неверно, чтобы Ахмед смог с ней разобраться."
   ]
  },
  {
   "cell_type": "code",
   "execution_count": 117,
   "id": "eb35e881",
   "metadata": {},
   "outputs": [
    {
     "name": "stdout",
     "output_type": "stream",
     "text": [
      "3\n",
      "[1, 2, 5]\n",
      "[0.5, 0.5]\n"
     ]
    }
   ],
   "source": [
    "import functools\n",
    "from typing import List,Callable\n",
    "\n",
    "def result_checker(function=None,*,checker=lambda x: x > 0):\n",
    "    if function is None:\n",
    "        return functools.partial(result_checker, checker=checker)\n",
    "    \n",
    "    @functools.wraps(function)\n",
    "    def wrapper(*args, **kwargs):\n",
    "        result = function(*args, **kwargs)\n",
    "\n",
    "        if not checker(result):\n",
    "            raise ValueError(\"Result is not valid!\")\n",
    "\n",
    "        return result\n",
    "\n",
    "    return wrapper\n",
    "\n",
    "\n",
    "@result_checker(checker=lambda x: x > 0)\n",
    "def scoring(x: int) -> int:\n",
    "    return -5 + 2 * x\n",
    "\n",
    "\n",
    "@result_checker(checker=lambda x: 5 in x)\n",
    "def concat(a: int, b: int, c: int) -> List[int]:\n",
    "    return [a, b, c]\n",
    "\n",
    "\n",
    "@result_checker(checker=lambda x: sum(x) == 1)\n",
    "def prob(x: List[str], y: int) -> List[float]:\n",
    "    return [i / y for i in x]\n",
    "\n",
    "\n",
    "if __name__ == \"__main__\":\n",
    "    print(scoring(4))\n",
    "    print(concat(1, 2, 5))\n",
    "    print(prob([2, 2], 4))"
   ]
  }
 ],
 "metadata": {
  "kernelspec": {
   "display_name": "python3.6-default",
   "language": "python",
   "name": "py36-default"
  },
  "language_info": {
   "codemirror_mode": {
    "name": "ipython",
    "version": 3
   },
   "file_extension": ".py",
   "mimetype": "text/x-python",
   "name": "python",
   "nbconvert_exporter": "python",
   "pygments_lexer": "ipython3",
   "version": "3.6.6"
  }
 },
 "nbformat": 4,
 "nbformat_minor": 5
}
